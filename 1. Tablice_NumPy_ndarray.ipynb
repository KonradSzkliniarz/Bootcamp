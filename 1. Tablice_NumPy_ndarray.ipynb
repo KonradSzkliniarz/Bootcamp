{
  "nbformat": 4,
  "nbformat_minor": 0,
  "metadata": {
    "colab": {
      "name": "Tablice NumPy ndarray.ipynb",
      "provenance": [],
      "authorship_tag": "ABX9TyN84Nqk/uCHyNwdwnw3D0Lw",
      "include_colab_link": true
    },
    "kernelspec": {
      "name": "python3",
      "display_name": "Python 3"
    }
  },
  "cells": [
    {
      "cell_type": "markdown",
      "metadata": {
        "id": "view-in-github",
        "colab_type": "text"
      },
      "source": [
        "<a href=\"https://colab.research.google.com/github/KonradSzkliniarz/Bootcamp/blob/master/1.%20Tablice_NumPy_ndarray.ipynb\" target=\"_parent\"><img src=\"https://colab.research.google.com/assets/colab-badge.svg\" alt=\"Open In Colab\"/></a>"
      ]
    },
    {
      "cell_type": "markdown",
      "metadata": {
        "id": "FP5PfPrZJObk",
        "colab_type": "text"
      },
      "source": [
        "# NumPy ndarray"
      ]
    },
    {
      "cell_type": "code",
      "metadata": {
        "id": "d3EtcKmvJIcV",
        "colab_type": "code",
        "colab": {
          "base_uri": "https://localhost:8080/",
          "height": 34
        },
        "outputId": "b2d2a1de-9a4a-4347-82d1-79fe2d4b3b06"
      },
      "source": [
        "import numpy as np\n",
        "np.__version__"
      ],
      "execution_count": 1,
      "outputs": [
        {
          "output_type": "execute_result",
          "data": {
            "text/plain": [
              "'1.18.4'"
            ]
          },
          "metadata": {
            "tags": []
          },
          "execution_count": 1
        }
      ]
    },
    {
      "cell_type": "code",
      "metadata": {
        "id": "c3ywHBMcKJws",
        "colab_type": "code",
        "colab": {}
      },
      "source": [
        "#sprawdzanie klas, metod, atrybutów w np\n",
        "print(dir(np))"
      ],
      "execution_count": 0,
      "outputs": []
    },
    {
      "cell_type": "code",
      "metadata": {
        "id": "4WZBIi_tKVRA",
        "colab_type": "code",
        "colab": {}
      },
      "source": [
        "#sprawdzanie definicji funkcji\n",
        "help(np.array)"
      ],
      "execution_count": 0,
      "outputs": []
    },
    {
      "cell_type": "markdown",
      "metadata": {
        "id": "nGOMb0lXMM2V",
        "colab_type": "text"
      },
      "source": [
        "## 1D Array"
      ]
    },
    {
      "cell_type": "code",
      "metadata": {
        "id": "m6_apUE-Lxlo",
        "colab_type": "code",
        "colab": {}
      },
      "source": [
        ""
      ],
      "execution_count": 0,
      "outputs": []
    }
  ]
}