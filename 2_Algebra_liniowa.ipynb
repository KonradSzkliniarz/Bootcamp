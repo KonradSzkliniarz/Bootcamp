{
  "nbformat": 4,
  "nbformat_minor": 0,
  "metadata": {
    "colab": {
      "name": "2. Algebra liniowa.ipynb",
      "provenance": [],
      "authorship_tag": "ABX9TyNgH0WNnez0Ce3r7/QdiSg0",
      "include_colab_link": true
    },
    "kernelspec": {
      "name": "python3",
      "display_name": "Python 3"
    }
  },
  "cells": [
    {
      "cell_type": "markdown",
      "metadata": {
        "id": "view-in-github",
        "colab_type": "text"
      },
      "source": [
        "<a href=\"https://colab.research.google.com/github/KonradSzkliniarz/Bootcamp/blob/master/2_Algebra_liniowa.ipynb\" target=\"_parent\"><img src=\"https://colab.research.google.com/assets/colab-badge.svg\" alt=\"Open In Colab\"/></a>"
      ]
    },
    {
      "cell_type": "markdown",
      "metadata": {
        "id": "qYBRFw8CbLHF",
        "colab_type": "text"
      },
      "source": [
        "## Norma wektora, długość wektora w przestrzeni R^2"
      ]
    },
    {
      "cell_type": "code",
      "metadata": {
        "id": "eCsHRqL7bFii",
        "colab_type": "code",
        "colab": {}
      },
      "source": [
        "import numpy as np\n"
      ],
      "execution_count": 0,
      "outputs": []
    },
    {
      "cell_type": "code",
      "metadata": {
        "id": "Fe6VC0AEbju4",
        "colab_type": "code",
        "colab": {}
      },
      "source": [
        "v1= np.array([0,4])\n",
        "# 0 i 4 to współrzędne wektora"
      ],
      "execution_count": 0,
      "outputs": []
    },
    {
      "cell_type": "code",
      "metadata": {
        "id": "cgtFTFHhbpNE",
        "colab_type": "code",
        "outputId": "cc594f07-2b8f-48bb-b200-1011129726ab",
        "colab": {
          "base_uri": "https://localhost:8080/",
          "height": 0
        }
      },
      "source": [
        "v1"
      ],
      "execution_count": 3,
      "outputs": [
        {
          "output_type": "execute_result",
          "data": {
            "text/plain": [
              "array([0, 4])"
            ]
          },
          "metadata": {
            "tags": []
          },
          "execution_count": 3
        }
      ]
    },
    {
      "cell_type": "code",
      "metadata": {
        "id": "SsglUQtibqLX",
        "colab_type": "code",
        "outputId": "c9d305ed-8be3-4dca-99fc-573b5d639c84",
        "colab": {
          "base_uri": "https://localhost:8080/",
          "height": 0
        }
      },
      "source": [
        "np.linalg.norm(v1)\n",
        "#norma wektora = 4"
      ],
      "execution_count": 4,
      "outputs": [
        {
          "output_type": "execute_result",
          "data": {
            "text/plain": [
              "4.0"
            ]
          },
          "metadata": {
            "tags": []
          },
          "execution_count": 4
        }
      ]
    },
    {
      "cell_type": "code",
      "metadata": {
        "id": "jiZ3jYx0buWz",
        "colab_type": "code",
        "colab": {}
      },
      "source": [
        "#norma w przestrzeni R^N. Przestrzeń 3 wymiarowa\n",
        "v2= np.array([-10,10,13])"
      ],
      "execution_count": 0,
      "outputs": []
    },
    {
      "cell_type": "code",
      "metadata": {
        "id": "hf-tVDmIb2mW",
        "colab_type": "code",
        "outputId": "dc6f7d38-e51b-440b-d522-57b0906a258a",
        "colab": {
          "base_uri": "https://localhost:8080/",
          "height": 0
        }
      },
      "source": [
        "np.linalg.norm(v2)"
      ],
      "execution_count": 6,
      "outputs": [
        {
          "output_type": "execute_result",
          "data": {
            "text/plain": [
              "19.209372712298546"
            ]
          },
          "metadata": {
            "tags": []
          },
          "execution_count": 6
        }
      ]
    },
    {
      "cell_type": "markdown",
      "metadata": {
        "id": "tLNlwli-cZBZ",
        "colab_type": "text"
      },
      "source": [
        "## Odległość dwóch punktów na płaszczyźnie"
      ]
    },
    {
      "cell_type": "code",
      "metadata": {
        "id": "J7xn58irb_1E",
        "colab_type": "code",
        "colab": {}
      },
      "source": [
        "p = np.array([3,0])\n",
        "q= np.array([0,4])"
      ],
      "execution_count": 0,
      "outputs": []
    },
    {
      "cell_type": "code",
      "metadata": {
        "id": "GxCSeE94cuOa",
        "colab_type": "code",
        "outputId": "1aa7f87b-a3e8-4bda-928d-4d7be4dad8ae",
        "colab": {
          "base_uri": "https://localhost:8080/",
          "height": 0
        }
      },
      "source": [
        "np.linalg.norm(p-q)"
      ],
      "execution_count": 8,
      "outputs": [
        {
          "output_type": "execute_result",
          "data": {
            "text/plain": [
              "5.0"
            ]
          },
          "metadata": {
            "tags": []
          },
          "execution_count": 8
        }
      ]
    },
    {
      "cell_type": "code",
      "metadata": {
        "id": "PljPqu_jcxQA",
        "colab_type": "code",
        "outputId": "8fa1ac44-2c23-4640-ffa0-ef00d62decd8",
        "colab": {
          "base_uri": "https://localhost:8080/",
          "height": 0
        }
      },
      "source": [
        "p = np.array([3,0,1])\n",
        "q= np.array([0,4,2])\n",
        "np.linalg.norm(p-q)"
      ],
      "execution_count": 9,
      "outputs": [
        {
          "output_type": "execute_result",
          "data": {
            "text/plain": [
              "5.0990195135927845"
            ]
          },
          "metadata": {
            "tags": []
          },
          "execution_count": 9
        }
      ]
    },
    {
      "cell_type": "markdown",
      "metadata": {
        "id": "UKornB27dtLh",
        "colab_type": "text"
      },
      "source": [
        "## Mnożenie macierzy"
      ]
    },
    {
      "cell_type": "code",
      "metadata": {
        "id": "CiWwJzAFc_hA",
        "colab_type": "code",
        "colab": {}
      },
      "source": [
        "X = np.array([[5,3],[3,9]])"
      ],
      "execution_count": 0,
      "outputs": []
    },
    {
      "cell_type": "code",
      "metadata": {
        "id": "H5sLcu8BeN36",
        "colab_type": "code",
        "outputId": "ce4b408d-ac0c-4a56-89be-816dcb00861b",
        "colab": {
          "base_uri": "https://localhost:8080/",
          "height": 51
        }
      },
      "source": [
        "X"
      ],
      "execution_count": 11,
      "outputs": [
        {
          "output_type": "execute_result",
          "data": {
            "text/plain": [
              "array([[5, 3],\n",
              "       [3, 9]])"
            ]
          },
          "metadata": {
            "tags": []
          },
          "execution_count": 11
        }
      ]
    },
    {
      "cell_type": "code",
      "metadata": {
        "id": "cJtlCko_eORa",
        "colab_type": "code",
        "colab": {}
      },
      "source": [
        "Y = np.array([[1],[-1]])"
      ],
      "execution_count": 0,
      "outputs": []
    },
    {
      "cell_type": "code",
      "metadata": {
        "id": "6Erdi9AUeYc6",
        "colab_type": "code",
        "outputId": "a784cf7b-29ca-4944-93a0-8f3bb6ce41d3",
        "colab": {
          "base_uri": "https://localhost:8080/",
          "height": 51
        }
      },
      "source": [
        "Y"
      ],
      "execution_count": 13,
      "outputs": [
        {
          "output_type": "execute_result",
          "data": {
            "text/plain": [
              "array([[ 1],\n",
              "       [-1]])"
            ]
          },
          "metadata": {
            "tags": []
          },
          "execution_count": 13
        }
      ]
    },
    {
      "cell_type": "code",
      "metadata": {
        "id": "A7Y3TUEMeY6a",
        "colab_type": "code",
        "colab": {}
      },
      "source": [
        "Z =np.dot(X,Y)"
      ],
      "execution_count": 0,
      "outputs": []
    },
    {
      "cell_type": "code",
      "metadata": {
        "id": "MeqkofXgfUym",
        "colab_type": "code",
        "outputId": "6cb7d8f4-cf2e-48f8-f609-0076ea0c7b0e",
        "colab": {
          "base_uri": "https://localhost:8080/",
          "height": 51
        }
      },
      "source": [
        "Z"
      ],
      "execution_count": 15,
      "outputs": [
        {
          "output_type": "execute_result",
          "data": {
            "text/plain": [
              "array([[ 2],\n",
              "       [-6]])"
            ]
          },
          "metadata": {
            "tags": []
          },
          "execution_count": 15
        }
      ]
    },
    {
      "cell_type": "code",
      "metadata": {
        "id": "rptU-2nlfVHA",
        "colab_type": "code",
        "outputId": "901aa5c4-e3f6-4307-f8be-4a92d767fc45",
        "colab": {
          "base_uri": "https://localhost:8080/",
          "height": 34
        }
      },
      "source": [
        "Z.shape"
      ],
      "execution_count": 16,
      "outputs": [
        {
          "output_type": "execute_result",
          "data": {
            "text/plain": [
              "(2, 1)"
            ]
          },
          "metadata": {
            "tags": []
          },
          "execution_count": 16
        }
      ]
    },
    {
      "cell_type": "code",
      "metadata": {
        "id": "2fZTv1S2ffNU",
        "colab_type": "code",
        "colab": {}
      },
      "source": [
        "# więcej wymiarów\n",
        "X = np.array([[2,-1,3],[3,1,0]])"
      ],
      "execution_count": 0,
      "outputs": []
    },
    {
      "cell_type": "code",
      "metadata": {
        "id": "aWUcTlTKftZB",
        "colab_type": "code",
        "outputId": "1c5e06db-2a44-4f77-9be2-34ac972e7e03",
        "colab": {
          "base_uri": "https://localhost:8080/",
          "height": 51
        }
      },
      "source": [
        "X"
      ],
      "execution_count": 18,
      "outputs": [
        {
          "output_type": "execute_result",
          "data": {
            "text/plain": [
              "array([[ 2, -1,  3],\n",
              "       [ 3,  1,  0]])"
            ]
          },
          "metadata": {
            "tags": []
          },
          "execution_count": 18
        }
      ]
    },
    {
      "cell_type": "code",
      "metadata": {
        "id": "Gstx41mtftso",
        "colab_type": "code",
        "colab": {}
      },
      "source": [
        "Y = np.array([[2,1,-1],[0,-1,2],[3,2,0]])"
      ],
      "execution_count": 0,
      "outputs": []
    },
    {
      "cell_type": "code",
      "metadata": {
        "id": "6LW9mHzSgOOi",
        "colab_type": "code",
        "outputId": "9281f225-7098-4b30-f475-9de24550ec2b",
        "colab": {
          "base_uri": "https://localhost:8080/",
          "height": 68
        }
      },
      "source": [
        "Y"
      ],
      "execution_count": 20,
      "outputs": [
        {
          "output_type": "execute_result",
          "data": {
            "text/plain": [
              "array([[ 2,  1, -1],\n",
              "       [ 0, -1,  2],\n",
              "       [ 3,  2,  0]])"
            ]
          },
          "metadata": {
            "tags": []
          },
          "execution_count": 20
        }
      ]
    },
    {
      "cell_type": "code",
      "metadata": {
        "id": "qom-KkiogOzx",
        "colab_type": "code",
        "outputId": "0ad8cd91-6ebb-421a-bc9f-947eaf4ae9df",
        "colab": {
          "base_uri": "https://localhost:8080/",
          "height": 51
        }
      },
      "source": [
        "np.dot(X,Y)"
      ],
      "execution_count": 21,
      "outputs": [
        {
          "output_type": "execute_result",
          "data": {
            "text/plain": [
              "array([[13,  9, -4],\n",
              "       [ 6,  2, -1]])"
            ]
          },
          "metadata": {
            "tags": []
          },
          "execution_count": 21
        }
      ]
    },
    {
      "cell_type": "code",
      "metadata": {
        "id": "IRkSmZ-DgQis",
        "colab_type": "code",
        "colab": {}
      },
      "source": [
        ""
      ],
      "execution_count": 0,
      "outputs": []
    },
    {
      "cell_type": "markdown",
      "metadata": {
        "id": "ocIhH-N2dOkQ",
        "colab_type": "text"
      },
      "source": [
        "## Wyznancznik macierzy\n",
        "|A| <- oznaczenie wyznacznika\n",
        "wyznacznik oblicza się po skosie (czyli działa tylko w kwadratowych macierzach) przemnażając od lewej górnej krawędzi po skosie a później do tego dodajemy ponowanie po skosie ale piętro niżej itd, a potem takie same składniki po skosie odejmujemy :D"
      ]
    },
    {
      "cell_type": "code",
      "metadata": {
        "id": "yzeb-xL4dz5P",
        "colab_type": "code",
        "colab": {}
      },
      "source": [
        "A= np.array([[2,4],[-1,3]])"
      ],
      "execution_count": 0,
      "outputs": []
    },
    {
      "cell_type": "code",
      "metadata": {
        "id": "ROl1H5EPetJP",
        "colab_type": "code",
        "colab": {
          "base_uri": "https://localhost:8080/",
          "height": 51
        },
        "outputId": "30c45859-19f9-4ca6-b6b2-ca810e9435aa"
      },
      "source": [
        "A"
      ],
      "execution_count": 25,
      "outputs": [
        {
          "output_type": "execute_result",
          "data": {
            "text/plain": [
              "array([[ 2,  4],\n",
              "       [-1,  3]])"
            ]
          },
          "metadata": {
            "tags": []
          },
          "execution_count": 25
        }
      ]
    },
    {
      "cell_type": "code",
      "metadata": {
        "id": "uPkuwmZHex5m",
        "colab_type": "code",
        "colab": {
          "base_uri": "https://localhost:8080/",
          "height": 34
        },
        "outputId": "e95891b4-2fcb-4725-bd06-64b46ebfd837"
      },
      "source": [
        "np.linalg.det(A)"
      ],
      "execution_count": 26,
      "outputs": [
        {
          "output_type": "execute_result",
          "data": {
            "text/plain": [
              "9.999999999999998"
            ]
          },
          "metadata": {
            "tags": []
          },
          "execution_count": 26
        }
      ]
    },
    {
      "cell_type": "markdown",
      "metadata": {
        "id": "e_1Q4AWJe9-X",
        "colab_type": "text"
      },
      "source": [
        "## Ślad macierzy\n",
        "Suma elementów na przekątnej"
      ]
    },
    {
      "cell_type": "code",
      "metadata": {
        "id": "YY4tZa4Xe_HN",
        "colab_type": "code",
        "colab": {
          "base_uri": "https://localhost:8080/",
          "height": 34
        },
        "outputId": "1c4712a6-5089-4a48-f06f-7383024987a8"
      },
      "source": [
        "np.trace(A)"
      ],
      "execution_count": 27,
      "outputs": [
        {
          "output_type": "execute_result",
          "data": {
            "text/plain": [
              "5"
            ]
          },
          "metadata": {
            "tags": []
          },
          "execution_count": 27
        }
      ]
    },
    {
      "cell_type": "markdown",
      "metadata": {
        "id": "fiJqSF8VfJJE",
        "colab_type": "text"
      },
      "source": [
        "## Macierz jednostkowa\n",
        "### Macierz kwadratowa, która składa się z jedynek i zer po przekątnej"
      ]
    },
    {
      "cell_type": "code",
      "metadata": {
        "id": "-4Z6EbCEfaAw",
        "colab_type": "code",
        "colab": {
          "base_uri": "https://localhost:8080/",
          "height": 102
        },
        "outputId": "359382fb-d4e7-43c8-96c1-b0ce7947a41a"
      },
      "source": [
        "np.eye(5,dtype='int')"
      ],
      "execution_count": 28,
      "outputs": [
        {
          "output_type": "execute_result",
          "data": {
            "text/plain": [
              "array([[1, 0, 0, 0, 0],\n",
              "       [0, 1, 0, 0, 0],\n",
              "       [0, 0, 1, 0, 0],\n",
              "       [0, 0, 0, 1, 0],\n",
              "       [0, 0, 0, 0, 1]])"
            ]
          },
          "metadata": {
            "tags": []
          },
          "execution_count": 28
        }
      ]
    },
    {
      "cell_type": "markdown",
      "metadata": {
        "id": "8uJsGrhiflZf",
        "colab_type": "text"
      },
      "source": [
        "## Macierz odwrotna\n",
        "pomnożenie macierzy razy macierz odwrotną daje macierz jednostkową. AB = BA"
      ]
    },
    {
      "cell_type": "code",
      "metadata": {
        "id": "bEGeLUnOfhSs",
        "colab_type": "code",
        "colab": {
          "base_uri": "https://localhost:8080/",
          "height": 51
        },
        "outputId": "049f9c21-a010-4490-c77a-8a37fd4f3a00"
      },
      "source": [
        "A"
      ],
      "execution_count": 29,
      "outputs": [
        {
          "output_type": "execute_result",
          "data": {
            "text/plain": [
              "array([[ 2,  4],\n",
              "       [-1,  3]])"
            ]
          },
          "metadata": {
            "tags": []
          },
          "execution_count": 29
        }
      ]
    },
    {
      "cell_type": "code",
      "metadata": {
        "id": "Vi5yEBH1fzdQ",
        "colab_type": "code",
        "colab": {}
      },
      "source": [
        "B = np.linalg.inv(A)"
      ],
      "execution_count": 0,
      "outputs": []
    },
    {
      "cell_type": "code",
      "metadata": {
        "id": "Q2ebh9zWf5B1",
        "colab_type": "code",
        "colab": {
          "base_uri": "https://localhost:8080/",
          "height": 51
        },
        "outputId": "aaf9de0d-b1b8-4982-e5a3-9a57d65e687e"
      },
      "source": [
        "B"
      ],
      "execution_count": 31,
      "outputs": [
        {
          "output_type": "execute_result",
          "data": {
            "text/plain": [
              "array([[ 0.3, -0.4],\n",
              "       [ 0.1,  0.2]])"
            ]
          },
          "metadata": {
            "tags": []
          },
          "execution_count": 31
        }
      ]
    },
    {
      "cell_type": "code",
      "metadata": {
        "id": "TM-C4hx0f5dv",
        "colab_type": "code",
        "colab": {
          "base_uri": "https://localhost:8080/",
          "height": 51
        },
        "outputId": "ab8e0ad3-4cbb-4f2c-fe04-e729f2057bd2"
      },
      "source": [
        "np.set_printoptions(precision=4, suppress=True)\n",
        "np.dot(A,B)"
      ],
      "execution_count": 34,
      "outputs": [
        {
          "output_type": "execute_result",
          "data": {
            "text/plain": [
              "array([[1., 0.],\n",
              "       [0., 1.]])"
            ]
          },
          "metadata": {
            "tags": []
          },
          "execution_count": 34
        }
      ]
    },
    {
      "cell_type": "code",
      "metadata": {
        "id": "fHu5dU6af8ou",
        "colab_type": "code",
        "colab": {
          "base_uri": "https://localhost:8080/",
          "height": 51
        },
        "outputId": "1ebd741e-4608-4376-cf92-f818ecdcfbb3"
      },
      "source": [
        "np.dot(B,A)"
      ],
      "execution_count": 35,
      "outputs": [
        {
          "output_type": "execute_result",
          "data": {
            "text/plain": [
              "array([[ 1., -0.],\n",
              "       [ 0.,  1.]])"
            ]
          },
          "metadata": {
            "tags": []
          },
          "execution_count": 35
        }
      ]
    },
    {
      "cell_type": "markdown",
      "metadata": {
        "id": "R9lOSkAQgJzX",
        "colab_type": "text"
      },
      "source": [
        "## Macierz transponowana\n",
        "Zamiana wierszy na kolumny i kolumn na wiersze"
      ]
    },
    {
      "cell_type": "code",
      "metadata": {
        "id": "J0JpdvfPgI4W",
        "colab_type": "code",
        "colab": {
          "base_uri": "https://localhost:8080/",
          "height": 51
        },
        "outputId": "20dbf7ec-f93e-4a75-834e-b6286ba5bb87"
      },
      "source": [
        "A"
      ],
      "execution_count": 36,
      "outputs": [
        {
          "output_type": "execute_result",
          "data": {
            "text/plain": [
              "array([[ 2,  4],\n",
              "       [-1,  3]])"
            ]
          },
          "metadata": {
            "tags": []
          },
          "execution_count": 36
        }
      ]
    },
    {
      "cell_type": "code",
      "metadata": {
        "id": "XWtuplMCgU8Q",
        "colab_type": "code",
        "colab": {
          "base_uri": "https://localhost:8080/",
          "height": 51
        },
        "outputId": "aa5af9c1-30ca-4c2c-a6c5-d3155da431e2"
      },
      "source": [
        "np.transpose(A)"
      ],
      "execution_count": 37,
      "outputs": [
        {
          "output_type": "execute_result",
          "data": {
            "text/plain": [
              "array([[ 2, -1],\n",
              "       [ 4,  3]])"
            ]
          },
          "metadata": {
            "tags": []
          },
          "execution_count": 37
        }
      ]
    },
    {
      "cell_type": "code",
      "metadata": {
        "id": "QGFykiP3gWl4",
        "colab_type": "code",
        "colab": {
          "base_uri": "https://localhost:8080/",
          "height": 51
        },
        "outputId": "3dc70cd7-c4c2-4e6a-8cb4-ecce4e9ec7dc"
      },
      "source": [
        "A.T"
      ],
      "execution_count": 38,
      "outputs": [
        {
          "output_type": "execute_result",
          "data": {
            "text/plain": [
              "array([[ 2, -1],\n",
              "       [ 4,  3]])"
            ]
          },
          "metadata": {
            "tags": []
          },
          "execution_count": 38
        }
      ]
    },
    {
      "cell_type": "markdown",
      "metadata": {
        "id": "fCnbFVJthH1F",
        "colab_type": "text"
      },
      "source": [
        "## Rozwiązywanie układów równań"
      ]
    },
    {
      "cell_type": "markdown",
      "metadata": {
        "id": "3zBy-qp6h4Qg",
        "colab_type": "text"
      },
      "source": [
        "Układ równań:\n",
        "\n",
        "\n",
        "```\n",
        "2x + 4y = 10\n",
        "x - y = -1\n",
        "```\n",
        "\n",
        "Możemy przedstawić macierzowo z kwadratową macierzą współczyników\n",
        "```\n",
        "2  4\n",
        "1 -1\n",
        "```\n"
      ]
    },
    {
      "cell_type": "code",
      "metadata": {
        "id": "68skZMpEgZZp",
        "colab_type": "code",
        "colab": {
          "base_uri": "https://localhost:8080/",
          "height": 51
        },
        "outputId": "f26a8400-f77f-4f5d-bef2-5e42a41610f4"
      },
      "source": [
        "A = np.array([[2,4],[1,-1]])\n",
        "print(A,'macierz współczynników')"
      ],
      "execution_count": 41,
      "outputs": [
        {
          "output_type": "stream",
          "text": [
            "[[ 2  4]\n",
            " [ 1 -1]] macierz współczynników\n"
          ],
          "name": "stdout"
        }
      ]
    },
    {
      "cell_type": "code",
      "metadata": {
        "id": "Q-rVw4koisWG",
        "colab_type": "code",
        "colab": {
          "base_uri": "https://localhost:8080/",
          "height": 51
        },
        "outputId": "62539281-bde3-4bae-839e-c968586cfdcb"
      },
      "source": [
        "B = np.array([[10],[-1]])\n",
        "print(B, 'wektor wyrazów wolnych')"
      ],
      "execution_count": 43,
      "outputs": [
        {
          "output_type": "stream",
          "text": [
            "[[10]\n",
            " [-1]] wektor wyrazów wolnych\n"
          ],
          "name": "stdout"
        }
      ]
    },
    {
      "cell_type": "markdown",
      "metadata": {
        "id": "PHNZ9H1jot9k",
        "colab_type": "text"
      },
      "source": [
        "Ogólny wzór <br>\n",
        "\n",
        "**AX = B <br>** <br>\n",
        "Obie strony mnożymy razy A^1 - dzięki temu skracamy A po lewej,bo wychodzi macierz jednostkowa <br>\n",
        "\n",
        "**A^-1 * AX = A^-1 * B <br>**\n",
        "<br>\n",
        "i ostateczny wzór na X jest jak poniżej <br>\n",
        "\n",
        "**X = A^-1 * B**"
      ]
    },
    {
      "cell_type": "markdown",
      "metadata": {
        "id": "HUW38-swjFf_",
        "colab_type": "text"
      },
      "source": [
        "Teraz szukamy macierzy odwrotnej do macierzy A"
      ]
    },
    {
      "cell_type": "code",
      "metadata": {
        "id": "VHY18YoMitL6",
        "colab_type": "code",
        "colab": {}
      },
      "source": [
        "A_inv = np.linalg.inv(A)"
      ],
      "execution_count": 0,
      "outputs": []
    },
    {
      "cell_type": "code",
      "metadata": {
        "id": "fycRo6AWjNe7",
        "colab_type": "code",
        "colab": {}
      },
      "source": [
        "# poniższe działanie wynika ze wzoru\n",
        "\n",
        "X = np.dot(A_inv,B)"
      ],
      "execution_count": 0,
      "outputs": []
    },
    {
      "cell_type": "code",
      "metadata": {
        "id": "hS12K1KEjYcC",
        "colab_type": "code",
        "colab": {
          "base_uri": "https://localhost:8080/",
          "height": 51
        },
        "outputId": "df14eee1-66e8-4eb1-d79b-7e3c06b70943"
      },
      "source": [
        "# a to jest wynik\n",
        "X"
      ],
      "execution_count": 48,
      "outputs": [
        {
          "output_type": "execute_result",
          "data": {
            "text/plain": [
              "array([[1.],\n",
              "       [2.]])"
            ]
          },
          "metadata": {
            "tags": []
          },
          "execution_count": 48
        }
      ]
    },
    {
      "cell_type": "code",
      "metadata": {
        "id": "wErhk7wIjfyd",
        "colab_type": "code",
        "colab": {
          "base_uri": "https://localhost:8080/",
          "height": 34
        },
        "outputId": "4b925a95-872a-4186-b0e5-a42438950eb6"
      },
      "source": [
        "X.shape"
      ],
      "execution_count": 49,
      "outputs": [
        {
          "output_type": "execute_result",
          "data": {
            "text/plain": [
              "(2, 1)"
            ]
          },
          "metadata": {
            "tags": []
          },
          "execution_count": 49
        }
      ]
    },
    {
      "cell_type": "code",
      "metadata": {
        "id": "Ho9DOjRbjnNf",
        "colab_type": "code",
        "colab": {}
      },
      "source": [
        ""
      ],
      "execution_count": 0,
      "outputs": []
    }
  ]
}